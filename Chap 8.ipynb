{
 "cells": [
  {
   "cell_type": "markdown",
   "metadata": {},
   "source": [
    "# CHAPTER 8"
   ]
  },
  {
   "cell_type": "code",
   "execution_count": 6,
   "metadata": {},
   "outputs": [
    {
     "name": "stdout",
     "output_type": "stream",
     "text": [
      "One of my favorite books is Harry Potter\n",
      "One of my favorite books is Koran\n",
      "One of my favorite books is History\n"
     ]
    }
   ],
   "source": [
    "def favourite_book(bookName):\n",
    "    print(f'One of my favorite books is {bookName.title()}')\n",
    "    \n",
    "favourite_book(bookName=\"Harry Potter\") \n",
    "favourite_book(\"Koran\")\n",
    "favourite_book('HISTORY')"
   ]
  },
  {
   "cell_type": "code",
   "execution_count": 9,
   "metadata": {},
   "outputs": [
    {
     "name": "stdout",
     "output_type": "stream",
     "text": [
      "You have ordered L size shirt with \"I love Shusha\" printed on it\n",
      "You have ordered XS size shirt with \"Hello There\" printed on it\n",
      "You have ordered L size shirt with \"I love YOU\" printed on it\n"
     ]
    }
   ],
   "source": [
    "def make_shirt(size=\"L\", title=\"I love Shusha\"):\n",
    "    print(f'You have ordered {size} size shirt with \"{title}\" printed on it')\n",
    "    \n",
    "make_shirt()  \n",
    "make_shirt(\"XS\",\"Hello There\")\n",
    "make_shirt(title=\"I love YOU\")"
   ]
  },
  {
   "cell_type": "code",
   "execution_count": 11,
   "metadata": {},
   "outputs": [
    {
     "name": "stdout",
     "output_type": "stream",
     "text": [
      "Sulik Balashka\n"
     ]
    }
   ],
   "source": [
    "def get_formatted_name(first_name, last_name):\n",
    "    full_name = f\"{first_name} {last_name}\" \n",
    "    return full_name.title()\n",
    "bro1 = get_formatted_name('sulik', 'balashka') \n",
    "print(bro1)"
   ]
  },
  {
   "cell_type": "code",
   "execution_count": 15,
   "metadata": {},
   "outputs": [
    {
     "name": "stdout",
     "output_type": "stream",
     "text": [
      "Baku is the capital of Azerbaijan\n"
     ]
    }
   ],
   "source": [
    "def capitals (countryName, cityName):\n",
    "    capital_Is=f'{cityName.title()} is the capital of {countryName.title()}'\n",
    "    return capital_Is\n",
    "    \n",
    "check1=capitals(cityName='baku', countryName='Azerbaijan')    \n",
    "print(check1)"
   ]
  },
  {
   "cell_type": "code",
   "execution_count": 25,
   "metadata": {},
   "outputs": [
    {
     "name": "stdout",
     "output_type": "stream",
     "text": [
      "{'artist': 'Linkin Park', 'album': 'Meteora'}\n",
      "{'artist': 'Linkin Park', 'album': 'Meteora', 'tracks': 18}\n"
     ]
    }
   ],
   "source": [
    "def make_album(artist,album,tracks=''):\n",
    "    \n",
    "    if tracks:\n",
    "        item1 = {'artist': artist, 'album': album, 'tracks':tracks}\n",
    "    else:\n",
    "        item1 = {'artist': artist, 'album': album}\n",
    "    return item1\n",
    "\n",
    "newAlbum=make_album('Linkin Park','Meteora')\n",
    "print(newAlbum)\n",
    "newAlbum2=make_album('Linkin Park','Meteora',18)\n",
    "print(newAlbum2)"
   ]
  },
  {
   "cell_type": "code",
   "execution_count": 35,
   "metadata": {},
   "outputs": [
    {
     "name": "stdout",
     "output_type": "stream",
     "text": [
      "['phone case', 'robot pendant', 'dodecahedron']\n",
      "\n",
      "\n",
      "Printing model: dodecahedron\n",
      "['dodecahedron']\n",
      "\n",
      "\n",
      "Printing model: robot pendant\n",
      "['dodecahedron', 'robot pendant']\n",
      "\n",
      "\n",
      "Printing model: phone case\n",
      "['dodecahedron', 'robot pendant', 'phone case']\n",
      "['phone case', 'robot pendant', 'dodecahedron']\n"
     ]
    }
   ],
   "source": [
    "unprinted_designs = ['phone case', 'robot pendant', 'dodecahedron']\n",
    "print(unprinted_designs)\n",
    "print('\\n')\n",
    "completed_models = []\n",
    "current_design = unprinted_designs.pop()\n",
    "print(f\"Printing model: {current_design}\")\n",
    "completed_models.append(current_design)\n",
    "print(completed_models)\n",
    "print('\\n')\n",
    "current_design = unprinted_designs.pop()\n",
    "print(f\"Printing model: {current_design}\")\n",
    "completed_models.append(current_design)\n",
    "print(completed_models)\n",
    "print('\\n')\n",
    "current_design = unprinted_designs.pop()\n",
    "print(f\"Printing model: {current_design}\")\n",
    "completed_models.append(current_design)\n",
    "print(completed_models)\n",
    "print(completed_models[::-1])"
   ]
  },
  {
   "cell_type": "code",
   "execution_count": null,
   "metadata": {},
   "outputs": [],
   "source": []
  },
  {
   "cell_type": "code",
   "execution_count": null,
   "metadata": {},
   "outputs": [],
   "source": []
  },
  {
   "cell_type": "code",
   "execution_count": null,
   "metadata": {},
   "outputs": [],
   "source": []
  },
  {
   "cell_type": "code",
   "execution_count": null,
   "metadata": {},
   "outputs": [],
   "source": []
  },
  {
   "cell_type": "code",
   "execution_count": null,
   "metadata": {},
   "outputs": [],
   "source": []
  }
 ],
 "metadata": {
  "kernelspec": {
   "display_name": "Python 3",
   "language": "python",
   "name": "python3"
  },
  "language_info": {
   "codemirror_mode": {
    "name": "ipython",
    "version": 3
   },
   "file_extension": ".py",
   "mimetype": "text/x-python",
   "name": "python",
   "nbconvert_exporter": "python",
   "pygments_lexer": "ipython3",
   "version": "3.8.3"
  }
 },
 "nbformat": 4,
 "nbformat_minor": 4
}
