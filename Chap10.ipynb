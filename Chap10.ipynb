{
 "cells": [
  {
   "cell_type": "markdown",
   "metadata": {},
   "source": [
    "# Chapter10"
   ]
  },
  {
   "cell_type": "code",
   "execution_count": 11,
   "metadata": {},
   "outputs": [
    {
     "name": "stdout",
     "output_type": "stream",
     "text": [
      "34\n",
      "34\n"
     ]
    }
   ],
   "source": [
    "file_path='/Users/azer/Documents/GitHub/PY1/pi_digits.txt'\n",
    "with open(file_path) as file_object:\n",
    "    contents = file_object.read()\n",
    "print(len(contents.rstrip()))\n",
    "print(len(contents))"
   ]
  },
  {
   "cell_type": "code",
   "execution_count": 13,
   "metadata": {},
   "outputs": [
    {
     "name": "stdout",
     "output_type": "stream",
     "text": [
      "3.1415926535\n",
      "8979323846\n",
      "2643383279\n"
     ]
    }
   ],
   "source": [
    "file_path='/Users/azer/Documents/GitHub/PY1/pi_digits.txt'\n",
    "\n",
    "with open(file_path)as file_object:\n",
    "    for line in file_object:\n",
    "        print(line.rstrip())"
   ]
  },
  {
   "cell_type": "code",
   "execution_count": 3,
   "metadata": {},
   "outputs": [
    {
     "name": "stdout",
     "output_type": "stream",
     "text": [
      "3.1415926535\n",
      "8979323846\n",
      "2643383279\n"
     ]
    }
   ],
   "source": [
    "filename = 'pi_digits.txt'\n",
    "\n",
    "with open(filename) as file_object:\n",
    "    for line22 in file_object:\n",
    "        print(line22.rstrip())"
   ]
  },
  {
   "cell_type": "code",
   "execution_count": 22,
   "metadata": {},
   "outputs": [
    {
     "name": "stdout",
     "output_type": "stream",
     "text": [
      "<class 'str'>\n"
     ]
    }
   ],
   "source": [
    "file_path='/Users/azer/Documents/GitHub/PY1/pi_digits.txt'\n",
    "\n",
    "with open(file_path) as file_object:\n",
    "    lines = file_object.readlines()\n",
    "\n",
    "pi_string = ''\n",
    "\n",
    "for line in lines:\n",
    "    pi_string += line.rstrip()\n",
    "    \n",
    "print(type(pi_string))"
   ]
  },
  {
   "cell_type": "code",
   "execution_count": 36,
   "metadata": {},
   "outputs": [
    {
     "name": "stdout",
     "output_type": "stream",
     "text": [
      "3.14159265358979323846264338327950288419716939937510...\n",
      "1080002\n"
     ]
    }
   ],
   "source": [
    "file_path='/Users/azer/Documents/GitHub/PY1/pi_million_digits.txt'\n",
    "\n",
    "with open(file_path) as file_object:\n",
    "    lines=file_object.readlines()\n",
    "    \n",
    "pi_string = ''\n",
    "for line in lines:\n",
    "    pi_string += line.strip()\n",
    "    \n",
    "myNewString = pi_string.replace(' ', '').replace('\\t', '').replace('\\n', '')\n",
    "\n",
    "print(f\"{myNewString[:52]}...\")\n",
    "print(len(pi_string))    "
   ]
  },
  {
   "cell_type": "code",
   "execution_count": 37,
   "metadata": {},
   "outputs": [
    {
     "name": "stdout",
     "output_type": "stream",
     "text": [
      "Enter your birthday, in the form mmddyy: 265358979\n",
      "Your birthday appears in the first million digits of pi!\n"
     ]
    }
   ],
   "source": [
    "file_path='/Users/azer/Documents/GitHub/PY1/pi_million_digits.txt'\n",
    "\n",
    "with open(file_path) as file_object:\n",
    "    lines=file_object.readlines()\n",
    "    pi_string += line.strip()\n",
    "    \n",
    "pi_string = ''\n",
    "for line in lines:\n",
    "    pi_string += line.strip()\n",
    "myNewString = pi_string.replace(' ', '').replace('\\t', '').replace('\\n', '')\n",
    "birthday = input(\"Enter your birthday, in the form mmddyy: \")\n",
    "if birthday in myNewString:\n",
    "    print(\"Your birthday appears in the first million digits of pi!\")\n",
    "else:\n",
    "    print(\"Your birthday does not appear in the first million digits of pi.\")"
   ]
  },
  {
   "cell_type": "code",
   "execution_count": 39,
   "metadata": {},
   "outputs": [],
   "source": [
    "filename='pi_copy.txt'\n",
    "\n",
    "with open(filename, 'w') as file_object:\n",
    "    file_object.write(\"I love programming.\\n\")\n",
    "    file_object.write(\"I love creating new games.\\n\")"
   ]
  },
  {
   "cell_type": "code",
   "execution_count": 40,
   "metadata": {},
   "outputs": [],
   "source": [
    "filename='pi_copy.txt'\n",
    "\n",
    "with open(filename, 'a') as file_object:\n",
    "    file_object.write(\"I also love finding meaning in large datasets.\\n\")\n",
    "    file_object.write(\"I love creating apps that can run in a browser.\\n\")"
   ]
  },
  {
   "cell_type": "code",
   "execution_count": 41,
   "metadata": {},
   "outputs": [
    {
     "name": "stdout",
     "output_type": "stream",
     "text": [
      "Please enter yourn nameAzer\n"
     ]
    }
   ],
   "source": [
    "filename='guest.txt'\n",
    "g_name=input('Please enter yourn name ')\n",
    "with open(filename, 'a') as file_object:\n",
    "    file_object.write(g_name)"
   ]
  },
  {
   "cell_type": "code",
   "execution_count": 47,
   "metadata": {},
   "outputs": [
    {
     "name": "stdout",
     "output_type": "stream",
     "text": [
      "Please enter yourn name Luke skywalker\n",
      "Hello dear Luke skywalker. Your name added to the list \n",
      "\n",
      "Please enter yourn name exit\n"
     ]
    }
   ],
   "source": [
    "filename='guest_book.txt'\n",
    "w_trigger=True\n",
    "\n",
    "while w_trigger==True:\n",
    "    g_name=input('Please enter yourn name ')\n",
    "    if g_name=='exit':\n",
    "        break\n",
    "    print(f'Hello dear {g_name}. Your name added to the list \\n')\n",
    "    with open(filename, 'a') as file_object:\n",
    "            file_object.write(f'{g_name.title()} \\n')"
   ]
  },
  {
   "cell_type": "code",
   "execution_count": 2,
   "metadata": {},
   "outputs": [
    {
     "ename": "ZeroDivisionError",
     "evalue": "division by zero",
     "output_type": "error",
     "traceback": [
      "\u001b[0;31m---------------------------------------------------------------------------\u001b[0m",
      "\u001b[0;31mZeroDivisionError\u001b[0m                         Traceback (most recent call last)",
      "\u001b[0;32m<ipython-input-2-efdaeb281192>\u001b[0m in \u001b[0;36m<module>\u001b[0;34m\u001b[0m\n\u001b[1;32m      1\u001b[0m \u001b[0;32mtry\u001b[0m\u001b[0;34m:\u001b[0m\u001b[0;34m\u001b[0m\u001b[0;34m\u001b[0m\u001b[0m\n\u001b[0;32m----> 2\u001b[0;31m     \u001b[0mprint\u001b[0m\u001b[0;34m(\u001b[0m\u001b[0;36m5\u001b[0m\u001b[0;34m/\u001b[0m\u001b[0;36m0\u001b[0m\u001b[0;34m)\u001b[0m\u001b[0;34m\u001b[0m\u001b[0;34m\u001b[0m\u001b[0m\n\u001b[0m\u001b[1;32m      3\u001b[0m \u001b[0;32mexcept\u001b[0m \u001b[0mZeroDivisionError\u001b[0m\u001b[0;34m:\u001b[0m\u001b[0;34m\u001b[0m\u001b[0;34m\u001b[0m\u001b[0m\n",
      "\u001b[0;31mZeroDivisionError\u001b[0m: division by zero",
      "\nDuring handling of the above exception, another exception occurred:\n",
      "\u001b[0;31mZeroDivisionError\u001b[0m                         Traceback (most recent call last)",
      "\u001b[0;32m<ipython-input-2-efdaeb281192>\u001b[0m in \u001b[0;36m<module>\u001b[0;34m\u001b[0m\n\u001b[1;32m      2\u001b[0m     \u001b[0mprint\u001b[0m\u001b[0;34m(\u001b[0m\u001b[0;36m5\u001b[0m\u001b[0;34m/\u001b[0m\u001b[0;36m0\u001b[0m\u001b[0;34m)\u001b[0m\u001b[0;34m\u001b[0m\u001b[0;34m\u001b[0m\u001b[0m\n\u001b[1;32m      3\u001b[0m \u001b[0;32mexcept\u001b[0m \u001b[0mZeroDivisionError\u001b[0m\u001b[0;34m:\u001b[0m\u001b[0;34m\u001b[0m\u001b[0;34m\u001b[0m\u001b[0m\n\u001b[0;32m----> 4\u001b[0;31m     \u001b[0mprint\u001b[0m\u001b[0;34m(\u001b[0m\u001b[0;36m5\u001b[0m\u001b[0;34m/\u001b[0m\u001b[0;36m0\u001b[0m\u001b[0;34m)\u001b[0m\u001b[0;34m\u001b[0m\u001b[0;34m\u001b[0m\u001b[0m\n\u001b[0m",
      "\u001b[0;31mZeroDivisionError\u001b[0m: division by zero"
     ]
    }
   ],
   "source": [
    "try:\n",
    "    print(5/0)\n",
    "except ZeroDivisionError:\n",
    "    print(5/0)"
   ]
  },
  {
   "cell_type": "code",
   "execution_count": 5,
   "metadata": {},
   "outputs": [
    {
     "name": "stdout",
     "output_type": "stream",
     "text": [
      "Give me two numbers, and I'll divide them.\n",
      "Enter 'q' to quit.\n",
      "\n",
      "First number: 9\n",
      "Second number: 0\n",
      "You can't divide by 0!\n",
      "\n",
      "First number: 987654321\n",
      "Second number: 123456789\n",
      "8.0000000729\n",
      "\n",
      "First number: 8508545\n",
      "Second number: 2212107\n",
      "3.8463532731463714\n",
      "\n",
      "First number: 19910417\n",
      "Second number: 19900107\n",
      "1.0005180876665638\n",
      "\n",
      "First number: q\n"
     ]
    }
   ],
   "source": [
    "print(\"Give me two numbers, and I'll divide them.\")\n",
    "print(\"Enter 'q' to quit.\")\n",
    "\n",
    "while True:\n",
    "    \n",
    "    first_number = input(\"\\nFirst number: \")\n",
    "    if first_number == 'q':\n",
    "        break\n",
    "        \n",
    "    second_number = input(\"Second number: \")\n",
    "    if second_number == 'q':\n",
    "        break\n",
    "\n",
    "    try:\n",
    "        answer = int(first_number) / int(second_number)\n",
    "    except ZeroDivisionError:\n",
    "        print(\"You can't divide by 0!\")\n",
    "    else:\n",
    "        print(answer)        "
   ]
  },
  {
   "cell_type": "code",
   "execution_count": 8,
   "metadata": {},
   "outputs": [
    {
     "name": "stdout",
     "output_type": "stream",
     "text": [
      "Sorry, the file alice.txt does not exist.\n"
     ]
    }
   ],
   "source": [
    "filename = 'alice.txt'\n",
    "try:\n",
    "    with open(filename, encoding='utf-8') as f:\n",
    "        contents = f.read()\n",
    "except FileNotFoundError:\n",
    "    print(f\"Sorry, the file {filename} does not exist.\")    "
   ]
  },
  {
   "cell_type": "code",
   "execution_count": 9,
   "metadata": {},
   "outputs": [
    {
     "data": {
      "text/plain": [
       "['take', 'your', 'seat', 'young', 'Skywalker']"
      ]
     },
     "execution_count": 9,
     "metadata": {},
     "output_type": "execute_result"
    }
   ],
   "source": [
    "title='take your seat young Skywalker'\n",
    "title.split()"
   ]
  },
  {
   "cell_type": "code",
   "execution_count": 23,
   "metadata": {},
   "outputs": [
    {
     "name": "stdout",
     "output_type": "stream",
     "text": [
      "The file alice2.txt has about 29647 words.\n",
      "164408\n",
      "5.545518939521705\n"
     ]
    },
    {
     "data": {
      "text/plain": [
       "2526"
      ]
     },
     "execution_count": 23,
     "metadata": {},
     "output_type": "execute_result"
    }
   ],
   "source": [
    "filename = 'alice2.txt'\n",
    "try:\n",
    "    with open(filename, encoding='utf-8') as f:\n",
    "        contents = f.read()\n",
    "except FileNotFoundError:\n",
    "    print(f\"Sorry, the file {filename} does not exist.\")  \n",
    "else:\n",
    "    words=contents.split()\n",
    "    num_words=len(words)\n",
    "    print(f\"The file {filename} has about {num_words} words.\")\n",
    "    print(len(contents))\n",
    "print(len(contents)/num_words)\n",
    "contents.lower().count('the')"
   ]
  },
  {
   "cell_type": "code",
   "execution_count": 7,
   "metadata": {},
   "outputs": [
    {
     "name": "stdout",
     "output_type": "stream",
     "text": [
      "please enter the first value 1\n",
      "please enter the second value 1\n",
      "Result 2\n"
     ]
    }
   ],
   "source": [
    "while True:\n",
    "    try:\n",
    "        number_one=int(input('please enter the first value '))\n",
    "        number_two=int(input('please enter the second value '))\n",
    "        number_onePlusTwo=number_one+number_two\n",
    "    except ValueError:\n",
    "        print('Sorry, you have entered wrong value') \n",
    "    else:\n",
    "        print('Result', number_onePlusTwo)\n",
    "        break\n",
    "  "
   ]
  },
  {
   "cell_type": "code",
   "execution_count": 15,
   "metadata": {},
   "outputs": [],
   "source": [
    "filename1 = 'cats.txt'\n",
    "filename2 = 'dogs.txt'\n",
    "try:\n",
    "    with open(filename1) as f1, open(filename2) as f2:\n",
    "        content1=f1.read()\n",
    "        content2=f2.read()\n",
    "except FileNotFoundError:\n",
    "    pass\n",
    "else:\n",
    "    print(content1,'\\n')  \n",
    "    print(content2) "
   ]
  },
  {
   "cell_type": "code",
   "execution_count": 1,
   "metadata": {},
   "outputs": [],
   "source": [
    "import json\n",
    "\n",
    "numbers=[5,4,84,7,5,32,6,8,9,7,6,3]\n",
    "\n",
    "filename='numbers.json'\n",
    "with open(filename,'w') as f:\n",
    "    json.dump(numbers,f)"
   ]
  },
  {
   "cell_type": "code",
   "execution_count": 2,
   "metadata": {},
   "outputs": [
    {
     "name": "stdout",
     "output_type": "stream",
     "text": [
      "[5, 4, 84, 7, 5, 32, 6, 8, 9, 7, 6, 3]\n"
     ]
    }
   ],
   "source": [
    "import json\n",
    "filename = 'numbers.json'\n",
    "with open(filename) as f:\n",
    "    numbers = json.load(f)\n",
    "print(numbers)"
   ]
  },
  {
   "cell_type": "code",
   "execution_count": 5,
   "metadata": {},
   "outputs": [
    {
     "name": "stdout",
     "output_type": "stream",
     "text": [
      "Hello again Azer\n"
     ]
    }
   ],
   "source": [
    "import json\n",
    "\n",
    "filename = 'username.json'\n",
    "\n",
    "try:\n",
    "    with open(filename) as f:\n",
    "        username=json.load(f)\n",
    "except FileNotFoundError:\n",
    "    with open(filename,'w') as f:\n",
    "        username=input('What is your name')\n",
    "        json.dump(username,f)\n",
    "        print(f'We will remember you {username.title()}')\n",
    "else:\n",
    "    print(f'Hello again {username}')"
   ]
  },
  {
   "cell_type": "code",
   "execution_count": 6,
   "metadata": {},
   "outputs": [
    {
     "name": "stdout",
     "output_type": "stream",
     "text": [
      "Please enter your favourite number 66\n"
     ]
    }
   ],
   "source": [
    "import json\n",
    "\n",
    "filename='fav_number.json'\n",
    "\n",
    "with open(filename, 'w') as f:\n",
    "    favNumber=input('Please enter your favourite number ')\n",
    "    json.dump(favNumber, f)"
   ]
  },
  {
   "cell_type": "code",
   "execution_count": 7,
   "metadata": {},
   "outputs": [
    {
     "name": "stdout",
     "output_type": "stream",
     "text": [
      "I know your favourite number. its 66\n"
     ]
    }
   ],
   "source": [
    "import json\n",
    "\n",
    "filename='fav_number.json'\n",
    "\n",
    "with open(filename) as f:\n",
    "    favNumber=json.load(f)\n",
    "    print(f'I know your favourite number. its {favNumber}')"
   ]
  },
  {
   "cell_type": "code",
   "execution_count": 21,
   "metadata": {},
   "outputs": [
    {
     "name": "stdout",
     "output_type": "stream",
     "text": [
      "please enter your nameSema\n",
      "I know your favourite number Sema. It's 17\n"
     ]
    }
   ],
   "source": [
    "import json\n",
    "\n",
    "username=input('please enter your name')\n",
    "filename=f'{username.lower()}_number.json'\n",
    "\n",
    "try:\n",
    "    with open(filename) as f:\n",
    "        favNumber=json.load(f)\n",
    "except FileNotFoundError:   \n",
    "    with open(filename, 'w') as f:\n",
    "        favNumber=input('Please enter your favourite number ')\n",
    "        json.dump(favNumber, f)\n",
    "        print(f'We remember you favourite number {username}')\n",
    "else:\n",
    "    print(f\"I know your favourite number {username}. It's {favNumber}\")"
   ]
  },
  {
   "cell_type": "code",
   "execution_count": null,
   "metadata": {},
   "outputs": [],
   "source": []
  },
  {
   "cell_type": "code",
   "execution_count": null,
   "metadata": {},
   "outputs": [],
   "source": []
  }
 ],
 "metadata": {
  "kernelspec": {
   "display_name": "Python 3",
   "language": "python",
   "name": "python3"
  },
  "language_info": {
   "codemirror_mode": {
    "name": "ipython",
    "version": 3
   },
   "file_extension": ".py",
   "mimetype": "text/x-python",
   "name": "python",
   "nbconvert_exporter": "python",
   "pygments_lexer": "ipython3",
   "version": "3.8.3"
  }
 },
 "nbformat": 4,
 "nbformat_minor": 4
}
