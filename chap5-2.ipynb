{
 "cells": [
  {
   "cell_type": "code",
   "execution_count": 31,
   "metadata": {},
   "outputs": [
    {
     "name": "stdout",
     "output_type": "stream",
     "text": [
      "\n",
      "\n",
      "how old are you a\n",
      "Please enter correct value 12\n",
      "you are too young for vote\n"
     ]
    }
   ],
   "source": [
    "print(\"\\n\")\n",
    "\n",
    "age10 = input(\"how old are you \")\n",
    "\n",
    "while age10.isnumeric()!=True:\n",
    "    age10 = input(\"Please enter correct value \")\n",
    "    \n",
    "age11=int(age10)    \n",
    "\n",
    "if age11 in range(18,151):\n",
    "    print(\"You are old enough for vote\")\n",
    "elif age11>150 or age11<0:\n",
    "    print(\"out of range\")\n",
    "else:\n",
    "    print(\"you are too young for vote\")"
   ]
  },
  {
   "cell_type": "code",
   "execution_count": 1,
   "metadata": {},
   "outputs": [
    {
     "name": "stdout",
     "output_type": "stream",
     "text": [
      "\n",
      "\n"
     ]
    }
   ],
   "source": [
    "print(\"\\n\")"
   ]
  },
  {
   "cell_type": "code",
   "execution_count": 12,
   "metadata": {},
   "outputs": [
    {
     "name": "stdout",
     "output_type": "stream",
     "text": [
      "Please input age156\n",
      "need correct age\n"
     ]
    }
   ],
   "source": [
    "age=int(input(\"Please input age\"))\n",
    "\n",
    "if age<2 and age>0:\n",
    "    print(\"младенец\")\n",
    "elif age>=2 and age<4:\n",
    "    print(\"малыш\")\n",
    "elif age>=4 and age<13:\n",
    "    print(\"ребенок\")\n",
    "elif age>=13 and age<20:\n",
    "    print(\"подросток\")\n",
    "elif age>=20 and age<65:\n",
    "    print(\"взрослый\")\n",
    "elif age>=65 and age<=150:\n",
    "    print (\"пожилой\")\n",
    "else:\n",
    "    print(\"need correct age\")"
   ]
  },
  {
   "cell_type": "code",
   "execution_count": 15,
   "metadata": {},
   "outputs": [
    {
     "name": "stdout",
     "output_type": "stream",
     "text": [
      "check if you like this fruitjuince\n",
      "you don't really like juince\n"
     ]
    }
   ],
   "source": [
    "favorite_fruits=[\"banana\", \"orange\", \"apple\"]\n",
    "\n",
    "fruit=input(\"check if you like this fruit \")\n",
    "\n",
    "if fruit in favorite_fruits:\n",
    "    print(f\"you really like {fruit}\")\n",
    "else:\n",
    "    print(f\"you don't really like {fruit}\")"
   ]
  },
  {
   "cell_type": "code",
   "execution_count": 32,
   "metadata": {},
   "outputs": [
    {
     "name": "stdout",
     "output_type": "stream",
     "text": [
      "1\n",
      "Adding carrots.\n",
      "2\n",
      "Adding more carrots.\n",
      "Adding more carrots.\n",
      "Adding more carrots.\n",
      "Adding eggplant.\n",
      "1\n"
     ]
    }
   ],
   "source": [
    "requested_toppings = [\"carrots\",\"carrots\",\"carrots\",\"carrots\",\"eggplant\"]\n",
    "if requested_toppings:\n",
    "    a=1\n",
    "    print(a)\n",
    "    for requested_topping in requested_toppings:\n",
    "        if requested_toppings.count(requested_topping)>1:\n",
    "            if a==1:\n",
    "                print(f\"Adding {requested_topping}.\")\n",
    "                a+=1\n",
    "                print(a)\n",
    "            else:    \n",
    "                print(f\"Adding more {requested_topping}.\")\n",
    "        else:\n",
    "            print(f\"Adding {requested_topping}.\")\n",
    "\n",
    "else:\n",
    "    print(\"Are you sure you want a plain pizza?\")\n",
    "a=1\n",
    "print(a) "
   ]
  },
  {
   "cell_type": "code",
   "execution_count": null,
   "metadata": {},
   "outputs": [],
   "source": []
  },
  {
   "cell_type": "code",
   "execution_count": null,
   "metadata": {},
   "outputs": [],
   "source": []
  }
 ],
 "metadata": {
  "kernelspec": {
   "display_name": "Python 3",
   "language": "python",
   "name": "python3"
  },
  "language_info": {
   "codemirror_mode": {
    "name": "ipython",
    "version": 3
   },
   "file_extension": ".py",
   "mimetype": "text/x-python",
   "name": "python",
   "nbconvert_exporter": "python",
   "pygments_lexer": "ipython3",
   "version": "3.8.3"
  }
 },
 "nbformat": 4,
 "nbformat_minor": 4
}
