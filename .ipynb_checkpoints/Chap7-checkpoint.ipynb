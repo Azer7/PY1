{
 "cells": [
  {
   "cell_type": "markdown",
   "metadata": {},
   "source": [
    "# CHAPTER 7"
   ]
  },
  {
   "cell_type": "code",
   "execution_count": 1,
   "metadata": {},
   "outputs": [
    {
     "name": "stdout",
     "output_type": "stream",
     "text": [
      "Tell me something, and I will repeat it back to you: I love you\n",
      "I love you\n"
     ]
    }
   ],
   "source": [
    "message = input(\"Tell me something, and I will repeat it back to you: \")\n",
    "print(message)"
   ]
  },
  {
   "cell_type": "code",
   "execution_count": 3,
   "metadata": {},
   "outputs": [
    {
     "name": "stdout",
     "output_type": "stream",
     "text": [
      "If you tell us who you are, we can personalize the messages you see.\n",
      "What is your first name? Azer\n",
      "\n",
      "Hello, Azer!\n"
     ]
    }
   ],
   "source": [
    "prompt = \"If you tell us who you are, we can personalize the messages you see.\" \n",
    "prompt += \"\\nWhat is your first name? \"\n",
    "name = input(prompt)\n",
    "print(f\"\\nHello, {name}!\")"
   ]
  },
  {
   "cell_type": "code",
   "execution_count": 11,
   "metadata": {},
   "outputs": [
    {
     "name": "stdout",
     "output_type": "stream",
     "text": [
      "введите номер для проверки 60\n",
      "60 это число кратно 10 6 раз\n"
     ]
    }
   ],
   "source": [
    "number=int(input(\"введите номер для проверки \"))\n",
    "number2=number/10\n",
    "\n",
    "if number%10==0:\n",
    "    print(f\"{number} это число кратно 10 {round(number2)} раз\")\n",
    "else:\n",
    "    print(f\"{number} это число не кратно 10 \")"
   ]
  },
  {
   "cell_type": "code",
   "execution_count": 21,
   "metadata": {},
   "outputs": [
    {
     "name": "stdout",
     "output_type": "stream",
     "text": [
      "1\n",
      "3.1\n"
     ]
    }
   ],
   "source": [
    "current_number = 1\n",
    "while current_number <= 5:\n",
    "    print(round(current_number,2))\n",
    "    current_number += 2.1"
   ]
  },
  {
   "cell_type": "code",
   "execution_count": 27,
   "metadata": {},
   "outputs": [
    {
     "name": "stdout",
     "output_type": "stream",
     "text": [
      "\n",
      "Tell me something, and I will repeat it back to you:\n",
      "Enter 'exit' to end the program. exit\n"
     ]
    }
   ],
   "source": [
    "prompt = \"\\nTell me something, and I will repeat it back to you:\" \n",
    "prompt += \"\\nEnter 'exit' to end the program. \"\n",
    "\n",
    "message=\" \"\n",
    "while message != \"exit\":\n",
    "    message=input(prompt)\n",
    "    if message != 'exit':\n",
    "        print(message)"
   ]
  },
  {
   "cell_type": "code",
   "execution_count": 30,
   "metadata": {},
   "outputs": [
    {
     "name": "stdout",
     "output_type": "stream",
     "text": [
      "['t', 'e', 'x', 't']\n"
     ]
    }
   ],
   "source": [
    "a=\"text\"\n",
    "c=list(a)\n",
    "\n",
    "print(c)"
   ]
  },
  {
   "cell_type": "code",
   "execution_count": 2,
   "metadata": {},
   "outputs": [
    {
     "name": "stdout",
     "output_type": "stream",
     "text": [
      "\n",
      "Tell me something, and I will repeat it back to you:\n",
      "Enter 'exit' to end the program. HEllo\\\n",
      "HEllo\\\n",
      "\n",
      "Tell me something, and I will repeat it back to you:\n",
      "Enter 'exit' to end the program. Hello there\n",
      "Hello there\n",
      "\n",
      "Tell me something, and I will repeat it back to you:\n",
      "Enter 'exit' to end the program. exit\n"
     ]
    }
   ],
   "source": [
    "prompt = \"\\nTell me something, and I will repeat it back to you:\" \n",
    "prompt += \"\\nEnter 'exit' to end the program. \"\n",
    "active=True\n",
    "while active:\n",
    "    message=input(prompt)\n",
    "    \n",
    "    if message=='exit':\n",
    "        active=False\n",
    "    else:\n",
    "        print(message)"
   ]
  },
  {
   "cell_type": "code",
   "execution_count": 3,
   "metadata": {},
   "outputs": [
    {
     "name": "stdout",
     "output_type": "stream",
     "text": [
      "Verifying user: Candace\n",
      "Verifying user: Brian\n",
      "Verifying user: Alice\n",
      "\n",
      "The following users have been confirmed:\n",
      "Candace\n",
      "Brian\n",
      "Alice\n"
     ]
    }
   ],
   "source": [
    "unconfirmed_users=['alice','brian','candace']\n",
    "confirmed_users=[]\n",
    "\n",
    "while unconfirmed_users:\n",
    "    current_user=unconfirmed_users.pop()\n",
    "    \n",
    "    print(f\"Verifying user: {current_user.title()}\")\n",
    "    confirmed_users.append(current_user)\n",
    "\n",
    "print(\"\\nThe following users have been confirmed:\")\n",
    "for confirmed_user in confirmed_users:\n",
    "    print(confirmed_user.title())"
   ]
  },
  {
   "cell_type": "code",
   "execution_count": 1,
   "metadata": {},
   "outputs": [
    {
     "name": "stdout",
     "output_type": "stream",
     "text": [
      "['dog', 'cat', 'dog', 'goldfish', 'cat', 'rabbit', 'cat']\n",
      "['dog', 'dog', 'goldfish', 'rabbit']\n"
     ]
    }
   ],
   "source": [
    "pets = ['dog', 'cat', 'dog', 'goldfish', 'cat', 'rabbit', 'cat']\n",
    "print(pets)\n",
    "while 'cat' in pets:\n",
    "    pets.remove('cat')\n",
    "print(pets)"
   ]
  },
  {
   "cell_type": "code",
   "execution_count": 5,
   "metadata": {},
   "outputs": [
    {
     "name": "stdout",
     "output_type": "stream",
     "text": [
      "Please type a name Azer\n",
      "Please type a mottogo go ahead\n",
      "would you like to repeat?yes\n",
      "Please type a name Ramil\n",
      "Please type a mottochapa krasava\n",
      "would you like to repeat?yes\n",
      "Please type a name Gadji\n",
      "Please type a mottoudar ne popodayet\n",
      "would you like to repeat?no\n",
      "===RESULTS===\n",
      "Azer's motto is go go ahead\n",
      "Ramil's motto is chapa krasava\n",
      "Gadji's motto is udar ne popodayet\n"
     ]
    }
   ],
   "source": [
    "classMates={}\n",
    "\n",
    "wannaContinue=True\n",
    "\n",
    "while wannaContinue:\n",
    "    name=input('Please type a name ')\n",
    "    motto=input('Please type a motto')\n",
    "    \n",
    "    classMates[name]=motto\n",
    "    \n",
    "    repeat=input(\"would you like to repeat?\")\n",
    "    if repeat==\"no\":\n",
    "        wannaContinue=False\n",
    "        \n",
    "        \n",
    "print('===RESULTS===')\n",
    "\n",
    "for name,motto in classMates.items():\n",
    "    print(f\"{name}'s motto is {motto}\")\n",
    "    "
   ]
  },
  {
   "cell_type": "markdown",
   "metadata": {},
   "source": [
    "Exercise"
   ]
  },
  {
   "cell_type": "code",
   "execution_count": 32,
   "metadata": {},
   "outputs": [
    {
     "name": "stdout",
     "output_type": "stream",
     "text": [
      "['mushrooms', 'onion', 'olives', 'onion', 'tomatoes', 'ham', 'onion', 'pepperoni']\n",
      "Onion removed from yopur order\n",
      "\n",
      "\n",
      "Mushrooms added to your pizza\n",
      "Olives added to your pizza\n",
      "Tomatoes added to your pizza\n",
      "Ham added to your pizza\n",
      "Pepperoni added to your pizza\n",
      "\n",
      "\n",
      "Your pizza with pepperoni, ham, tomatoes, olives, and mushrooms is ready.\n",
      "\n",
      "\n",
      "['p', 'e', 'p', 'p', 'e', 'r', 'o', 'n', 'i', ',', ' ', 'h', 'a', 'm', ',', ' ', 't', 'o', 'm', 'a', 't', 'o', 'e', 's', ',', ' ', 'o', 'l', 'i', 'v', 'e', 's', ',', ' ', 'a', 'n', 'd', ' ', 'm', 'u', 's', 'h', 'r', 'o', 'o', 'm', 's']\n",
      "\n",
      "\n",
      "['p', 'e', 'p', 'p', 'e', 'r', 'o', 'n', 'i', 'h', 'a', 'm', 't', 'o', 'm', 'a', 't', 'o', 'e', 's', 'o', 'l', 'i', 'v', 'e', 's', 'a', 'n', 'd', 'm', 'u', 's', 'h', 'r', 'o', 'o', 'm', 's']\n"
     ]
    }
   ],
   "source": [
    "pizzaTopicsOrdered=['mushrooms', 'onion', 'olives', 'onion', 'tomatoes', 'ham', 'onion', 'pepperoni' ]\n",
    "pizzaTopicsReceived=[]\n",
    "\n",
    "print(pizzaTopicsOrdered)\n",
    "\n",
    "while \"onion\" in pizzaTopicsOrdered:\n",
    "    pizzaTopicsOrdered.remove('onion')\n",
    "\n",
    "if \"onion\" not in pizzaTopicsOrdered:\n",
    "    print(\"Onion removed from yopur order\")\n",
    "print('\\n')    \n",
    "    \n",
    "for a in pizzaTopicsOrdered:\n",
    "    print(f'{a.title()} added to your pizza')\n",
    "\n",
    "print('\\n')\n",
    "\n",
    "\n",
    "while \"onion\" in pizzaTopicsOrdered:\n",
    "    pizzaTopicsOrdered.remove('onion')\n",
    "\n",
    "while pizzaTopicsOrdered:\n",
    "    pizzaProcesing=pizzaTopicsOrdered.pop()\n",
    "    pizzaTopicsReceived.append(pizzaProcesing)\n",
    "    \n",
    "\n",
    "stringTopics=\"\"\n",
    "\n",
    "for a in pizzaTopicsReceived:\n",
    "    \n",
    "    if a==pizzaTopicsReceived[-1]:\n",
    "        stringTopics+=\"and \"\n",
    "        stringTopics+=a\n",
    "        \n",
    "    else:   \n",
    "        stringTopics+=a\n",
    "        stringTopics+=\", \"\n",
    "        \n",
    "print(f\"Your pizza with {stringTopics} is ready.\")\n",
    "\n",
    "newList=list(stringTopics)\n",
    "print('\\n')\n",
    "print(newList)\n",
    "print('\\n')\n",
    "while \",\" in newList:\n",
    "    newList.remove(\",\")\n",
    "while \" \" in newList:\n",
    "    newList.remove(\" \")    \n",
    "    \n",
    "print(newList) "
   ]
  },
  {
   "cell_type": "code",
   "execution_count": null,
   "metadata": {},
   "outputs": [],
   "source": [
    "\n",
    "        "
   ]
  },
  {
   "cell_type": "code",
   "execution_count": null,
   "metadata": {},
   "outputs": [],
   "source": []
  },
  {
   "cell_type": "code",
   "execution_count": null,
   "metadata": {},
   "outputs": [],
   "source": []
  }
 ],
 "metadata": {
  "kernelspec": {
   "display_name": "Python 3",
   "language": "python",
   "name": "python3"
  },
  "language_info": {
   "codemirror_mode": {
    "name": "ipython",
    "version": 3
   },
   "file_extension": ".py",
   "mimetype": "text/x-python",
   "name": "python",
   "nbconvert_exporter": "python",
   "pygments_lexer": "ipython3",
   "version": "3.8.3"
  }
 },
 "nbformat": 4,
 "nbformat_minor": 4
}
