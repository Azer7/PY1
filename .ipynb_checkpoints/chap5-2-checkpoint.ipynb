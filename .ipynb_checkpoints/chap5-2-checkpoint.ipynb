{
 "cells": [
  {
   "cell_type": "code",
   "execution_count": 31,
   "metadata": {},
   "outputs": [
    {
     "name": "stdout",
     "output_type": "stream",
     "text": [
      "\n",
      "\n",
      "how old are you a\n",
      "Please enter correct value 12\n",
      "you are too young for vote\n"
     ]
    }
   ],
   "source": [
    "print(\"\\n\")\n",
    "\n",
    "age10 = input(\"how old are you \")\n",
    "\n",
    "while age10.isnumeric()!=True:\n",
    "    age10 = input(\"Please enter correct value \")\n",
    "    \n",
    "age11=int(age10)    \n",
    "\n",
    "if age11 in range(18,151):\n",
    "    print(\"You are old enough for vote\")\n",
    "elif age11>150 or age11<0:\n",
    "    print(\"out of range\")\n",
    "else:\n",
    "    print(\"you are too young for vote\")"
   ]
  },
  {
   "cell_type": "markdown",
   "metadata": {},
   "source": []
  },
  {
   "cell_type": "code",
   "execution_count": null,
   "metadata": {},
   "outputs": [],
   "source": []
  },
  {
   "cell_type": "code",
   "execution_count": null,
   "metadata": {},
   "outputs": [],
   "source": []
  }
 ],
 "metadata": {
  "kernelspec": {
   "display_name": "Python 3",
   "language": "python",
   "name": "python3"
  },
  "language_info": {
   "codemirror_mode": {
    "name": "ipython",
    "version": 3
   },
   "file_extension": ".py",
   "mimetype": "text/x-python",
   "name": "python",
   "nbconvert_exporter": "python",
   "pygments_lexer": "ipython3",
   "version": "3.8.3"
  }
 },
 "nbformat": 4,
 "nbformat_minor": 4
}
