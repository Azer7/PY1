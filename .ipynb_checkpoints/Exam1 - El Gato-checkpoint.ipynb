{
 "cells": [
  {
   "cell_type": "markdown",
   "metadata": {},
   "source": [
    "# Test El Gato1\n"
   ]
  },
  {
   "cell_type": "markdown",
   "metadata": {},
   "source": [
    "Задача 1\n",
    "\n",
    "Есть список a = [1, 1, 2, 3, 5, 8, 13, 21, 34, 55, 89].\n",
    "\n",
    "Выведите все элементы, которые меньше 5."
   ]
  },
  {
   "cell_type": "code",
   "execution_count": 1,
   "metadata": {},
   "outputs": [
    {
     "name": "stdout",
     "output_type": "stream",
     "text": [
      "1\n",
      "1\n",
      "2\n",
      "3\n"
     ]
    }
   ],
   "source": [
    "a = [1, 1, 2, 3, 5, 8, 13, 21, 34, 55, 89]\n",
    "\n",
    "for number in a:\n",
    "    if number<5:\n",
    "        print(number)"
   ]
  },
  {
   "cell_type": "markdown",
   "metadata": {},
   "source": [
    "Даны списки:\n",
    "\n",
    "a = [1, 1, 2, 3, 5, 8, 13, 21, 34, 55, 89];\n",
    "\n",
    "b = [1, 2, 3, 4, 5, 6, 7, 8, 9, 10, 11, 12, 13].\n",
    "\n",
    "Нужно вернуть список, который состоит из элементов, общих для этих двух списков."
   ]
  },
  {
   "cell_type": "code",
   "execution_count": 5,
   "metadata": {},
   "outputs": [
    {
     "name": "stdout",
     "output_type": "stream",
     "text": [
      "[1, 2, 3, 5, 8, 13]\n"
     ]
    }
   ],
   "source": [
    "a = [1, 1, 2, 3, 5, 8, 13, 21, 34, 55, 89];\n",
    "\n",
    "b = [1, 2, 3, 4, 5, 6, 7, 8, 9, 10, 11, 12, 13]\n",
    "c=[]\n",
    "for number in a:\n",
    "    if number in b and number not in c:\n",
    "        c.append(number)  \n",
    "print(c)        \n",
    "    "
   ]
  },
  {
   "cell_type": "code",
   "execution_count": 7,
   "metadata": {},
   "outputs": [
    {
     "name": "stdout",
     "output_type": "stream",
     "text": [
      "1\n",
      "2\n",
      "3\n",
      "5\n",
      "8\n",
      "13\n"
     ]
    }
   ],
   "source": [
    "a = [1, 1, 2, 3, 5, 8, 13, 21, 34, 55, 89]\n",
    "\n",
    "b = [1, 2, 3, 4, 5, 6, 7, 8, 9, 10, 11, 12, 13]\n",
    "\n",
    "for number in b:\n",
    "    if number in a:\n",
    "        print(number)"
   ]
  },
  {
   "cell_type": "markdown",
   "metadata": {},
   "source": [
    "Задача 3\n",
    "\n",
    "Отсортируйте алфавит по значению в порядке возрастания и убывания."
   ]
  },
  {
   "cell_type": "code",
   "execution_count": 21,
   "metadata": {},
   "outputs": [
    {
     "name": "stdout",
     "output_type": "stream",
     "text": [
      "['A', 'B', 'C', 'D', 'E', 'F', 'G', 'H', 'I', 'J', 'K', 'L', 'M', 'N', 'O', 'P', 'Q', 'R', 'S', 'T', 'U', 'V', 'W', 'X', 'Y', 'Z']\n",
      "\n",
      "\n",
      "['Z', 'Y', 'X', 'W', 'V', 'U', 'T', 'S', 'R', 'Q', 'P', 'O', 'N', 'M', 'L', 'K', 'J', 'I', 'H', 'G', 'F', 'E', 'D', 'C', 'B', 'A']\n"
     ]
    }
   ],
   "source": [
    "alphabet1 = ['A','C', 'B', 'D', 'E', 'F', 'H', 'G', 'I', 'J', 'K',\n",
    "            'L', 'M', 'N', 'O', 'P', 'Q', 'R', 'S', 'T', 'U', 'V', 'W', 'X', 'Y', 'Z']\n",
    "\n",
    "alphabet1.sort()\n",
    "print(alphabet1)\n",
    "print(\"\\n\")\n",
    "alphabet1.sort(reverse=True)\n",
    "print(alphabet1)"
   ]
  },
  {
   "cell_type": "markdown",
   "metadata": {},
   "source": [
    "Выведи первый и последний номер из спска\n"
   ]
  },
  {
   "cell_type": "code",
   "execution_count": 23,
   "metadata": {},
   "outputs": [
    {
     "name": "stdout",
     "output_type": "stream",
     "text": [
      "1 and 12\n"
     ]
    }
   ],
   "source": [
    "a=[1,3,2,1,2,5,6,7,8,12]\n",
    "\n",
    "print(f\"{a[0]} and {a[-1]}\")"
   ]
  },
  {
   "cell_type": "code",
   "execution_count": 36,
   "metadata": {},
   "outputs": [
    {
     "name": "stdout",
     "output_type": "stream",
     "text": [
      "\n",
      "\n",
      "Type your name pleasead\n",
      "\n",
      "\n",
      "Hello Dear Ad\n",
      "\n",
      "\n",
      "You can use this tiny app as calculator.\n",
      "First you have to choose which of 4 actions you want to do\n",
      "Then type 2 numbers and press ENTER\n",
      "Please type +, -, * or //\n",
      "Please type the first number 5\n",
      "Please type the second number 3\n",
      "1.67\n"
     ]
    }
   ],
   "source": [
    "def howManyPlus(a,b):\n",
    "    c=a+b\n",
    "    print(c)\n",
    "    \n",
    "def howManyMinus(a,b):\n",
    "    c=a-b\n",
    "    print(c)\n",
    "    \n",
    "def howManyMult(a,b):\n",
    "    c=a*b\n",
    "    print(c)\n",
    "    \n",
    "def howManyDivide(a,b):\n",
    "    c=a/b\n",
    "    print(round(c,2))\n",
    "\n",
    "print(\"\\n\")\n",
    "name=input(\"Type your name please\")\n",
    "print(\"\\n\")\n",
    "print(f\"Hello Dear {name.title()}\")\n",
    "print(\"\\n\")\n",
    "print(\"You can use this tiny app as calculator.\")\n",
    "print(\"First you have to choose which of 4 actions you want to do\")\n",
    "print(\"Then type 2 numbers and press ENTER\")\n",
    "number3=input(\"Please type +, -, * or /\")\n",
    "number1=int(input(\"Please type the first number \"))\n",
    "number2=int(input(\"Please type the second number \"))\n",
    "\n",
    "\n",
    "if number3==\"+\":\n",
    "    howManyPlus(number1,number2)\n",
    "elif number3==\"-\":\n",
    "    howManyMinus(number1,number2)\n",
    "elif number3==\"*\":\n",
    "    howManyMult(number1,number2)\n",
    "elif number3==\"/\":\n",
    "    howManyDivide(number1,number2)\n",
    "else:\n",
    "    print(\"Sorry, something went wrong\")\n"
   ]
  },
  {
   "cell_type": "code",
   "execution_count": 6,
   "metadata": {},
   "outputs": [
    {
     "name": "stdout",
     "output_type": "stream",
     "text": [
      "check if a word a palindromeqwer\n",
      "qwer\n",
      "rewq\n",
      "гарын гет гет\n"
     ]
    }
   ],
   "source": [
    "def palindrome(a):\n",
    "    print(a)\n",
    "    print(a[::-1])\n",
    "    if a==a[::-1]:\n",
    "        print(\"это лихантроп\")\n",
    "    else:\n",
    "        print(\"гарын гет гет\")\n",
    "        \n",
    "txt=input(\"check if a word a palindrome\")\n",
    "\n",
    "palindrome(txt)"
   ]
  },
  {
   "cell_type": "code",
   "execution_count": 12,
   "metadata": {
    "scrolled": true
   },
   "outputs": [
    {
     "name": "stdout",
     "output_type": "stream",
     "text": [
      "idi nax\n"
     ]
    }
   ],
   "source": [
    "def palindrome(a):\n",
    "    new_str = reversed(a)\n",
    "    if list(a) == list(new_str):\n",
    "        print(\"is palindrome\")\n",
    "    else:\n",
    "        print('idi nax')\n",
    "palindrome(\"anra\")\n"
   ]
  },
  {
   "cell_type": "markdown",
   "metadata": {},
   "source": [
    "# Homework"
   ]
  },
  {
   "cell_type": "markdown",
   "metadata": {},
   "source": [
    "Построить функцию которая выводит количество заглавных и обычных букв. Например count_for_me(\"Joe is Very Skilled \") where the putput should be: 3 capital letters and 13 normal letters"
   ]
  },
  {
   "cell_type": "markdown",
   "metadata": {},
   "source": [
    "Build me a function that converts celsius to fahrenheit and vice versa depending on what user chooses."
   ]
  },
  {
   "cell_type": "code",
   "execution_count": 31,
   "metadata": {},
   "outputs": [
    {
     "name": "stdout",
     "output_type": "stream",
     "text": [
      "We will count what you type \n",
      " Please type somethingadsasda\n",
      "Your string has 7 digits including spaces \n",
      "\n",
      "Your string has 7 digits excluded spaces \n",
      "\n",
      "Your string has 7 letters \n",
      "\n",
      "Your string has 0 uppercase letters \n",
      "\n",
      "Your string has 7 lowecase letters \n",
      "\n",
      "Your string has 0 numbers \n",
      "\n",
      "Your string has 0 symbols \n",
      "\n"
     ]
    }
   ],
   "source": [
    "def count_for_me(sentence):\n",
    "    \n",
    "    allDigitsWithSpaces=0\n",
    "    allDigitsWithoutSpaces=0\n",
    "    onlyLetters=0\n",
    "    onlyUpper=0\n",
    "    onlyLower=0\n",
    "    onlyNumbers=0\n",
    "    onlySymbols=0\n",
    "    \n",
    "    sentenceToList=list(sentence)\n",
    "    \n",
    "    for a in sentenceToList:\n",
    "        allDigitsWithSpaces+=1\n",
    "        \n",
    "        if a!=\" \":\n",
    "            allDigitsWithoutSpaces+=1\n",
    "        \n",
    "        if a.isalpha()==True:\n",
    "            onlyLetters+=1\n",
    "        \n",
    "        if a.isalpha()==True and a.isupper()==True:\n",
    "            onlyUpper+=1\n",
    "\n",
    "        if a.isalpha()==True and a.islower()==True:\n",
    "            onlyLower+=1\n",
    "        \n",
    "        if a.isnumeric()==True:\n",
    "            onlyNumbers+=1\n",
    "            \n",
    "        if a.isalpha()!=True and a.isnumeric()!=True and a!=\" \":\n",
    "            onlySymbols+=1\n",
    "        \n",
    "        \n",
    "    print(f'Your string has {allDigitsWithSpaces} digits including spaces \\n')\n",
    "    print(f'Your string has {allDigitsWithoutSpaces} digits excluded spaces \\n')\n",
    "    print(f'Your string has {onlyLetters} letters \\n')\n",
    "    print(f'Your string has {onlyUpper} uppercase letters \\n')\n",
    "    print(f'Your string has {onlyLower} lowecase letters \\n')\n",
    "    print(f'Your string has {onlyNumbers} numbers \\n')\n",
    "    print(f'Your string has {onlySymbols} symbols \\n')\n",
    "\n",
    "saySomething=input(\"We will count what you type \\n Please type something\")           \n",
    "count_for_me(saySomething)          "
   ]
  },
  {
   "cell_type": "code",
   "execution_count": null,
   "metadata": {},
   "outputs": [
    {
     "name": "stdout",
     "output_type": "stream",
     "text": [
      " Type 1 for °C to °F \n",
      " Type 2 for °F to °C \n",
      "   34\n",
      "\n",
      "\n",
      "PLEASE PRINT 1 OR 2\n"
     ]
    }
   ],
   "source": [
    "# Build me a function that converts celsius to fahrenheit and vice versa depending on what user chooses.\n",
    "\n",
    "def tempConverter():\n",
    "#a==1 C to F. a==2 F to C\n",
    "    a=input(\" Type 1 for °C to °F \\n Type 2 for °F to °C \\n   \")\n",
    "    if int(a)==1:\n",
    "        valueC=int(input(\"please enter C value\"))\n",
    "        valueF = valueC * 1.8 + 32\n",
    "        print(f\"{round(valueC,2)}°C = {round(valueF),2} °F \")\n",
    "        print(\"\\n\")\n",
    "    elif int(a)==2:\n",
    "        valueF=int(input(\"please enter F value\"))\n",
    "        valueC= (valueF - 32) / 1.8\n",
    "        print(f\"{round(valueF,2)}°F = {round(valueC,2)} °C \")\n",
    "        print(\"\\n\")\n",
    "    else:\n",
    "        print(\"\\n\")\n",
    "        print(\"PLEASE PRINT 1 OR 2\")\n",
    "        tempConverter() \n",
    "            \n",
    "        \n",
    "    \n",
    "tempConverter()   "
   ]
  },
  {
   "cell_type": "code",
   "execution_count": null,
   "metadata": {},
   "outputs": [],
   "source": []
  },
  {
   "cell_type": "code",
   "execution_count": null,
   "metadata": {},
   "outputs": [],
   "source": []
  }
 ],
 "metadata": {
  "kernelspec": {
   "display_name": "Python 3",
   "language": "python",
   "name": "python3"
  },
  "language_info": {
   "codemirror_mode": {
    "name": "ipython",
    "version": 3
   },
   "file_extension": ".py",
   "mimetype": "text/x-python",
   "name": "python",
   "nbconvert_exporter": "python",
   "pygments_lexer": "ipython3",
   "version": "3.8.5"
  }
 },
 "nbformat": 4,
 "nbformat_minor": 4
}
