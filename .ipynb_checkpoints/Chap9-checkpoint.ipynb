{
 "cells": [
  {
   "cell_type": "markdown",
   "metadata": {},
   "source": [
    "# Chapter 9"
   ]
  },
  {
   "cell_type": "code",
   "execution_count": 26,
   "metadata": {},
   "outputs": [
    {
     "name": "stdout",
     "output_type": "stream",
     "text": [
      "\n",
      " El GATO is a lovery restaurant with spanish cuisine\n",
      "\n",
      " 25 happy customers\n",
      "\n",
      " El GATO is a lovery restaurant with spanish cuisine\n",
      "\n",
      " 66 happy customers\n",
      "\n",
      "#You cant decrease number of customers\n",
      "\n",
      " El GATO is a lovery restaurant with spanish cuisine\n",
      "\n",
      " 66 happy customers\n",
      "\n",
      "#You cant decrease number of customers\n",
      "\n",
      " El GATO is a lovery restaurant with spanish cuisine\n",
      "\n",
      " 66 happy customers\n",
      "\n",
      " El GATO is a lovery restaurant with spanish cuisine\n",
      "\n",
      " 78 happy customers\n"
     ]
    }
   ],
   "source": [
    "class Restaurant():\n",
    "    def __init__(self, restaurant_name, cuisine_type):\n",
    "        self.name=restaurant_name\n",
    "        self.cuisine=cuisine_type\n",
    "        self.number_served=0\n",
    "        \n",
    "    def describe_restaurant(self):\n",
    "        print(f'\\n {self.name} is a lovery restaurant with {self.cuisine} cuisine')\n",
    "        print('\\n', self.number_served, 'happy customers')\n",
    "    \n",
    "    def set_number_served(self,customers):\n",
    "        if customers>=self.number_served:\n",
    "            self.number_served=customers\n",
    "        else:\n",
    "            print(\"\\n#You cant decrease number of customers\")\n",
    "    \n",
    "    def increment_number_served(self, customers):\n",
    "        if customers>=0:\n",
    "            self.number_served+=customers\n",
    "        else:\n",
    "            print(\"\\n#You cant decrease number of customers\")\n",
    "        \n",
    "        \n",
    "restaurant=Restaurant(\"El GATO\", \"spanish\") \n",
    "restaurant.number_served=25\n",
    "restaurant.describe_restaurant()\n",
    "\n",
    "restaurant.set_number_served(66)\n",
    "restaurant.describe_restaurant()\n",
    "\n",
    "restaurant.set_number_served(55)\n",
    "restaurant.describe_restaurant()\n",
    "\n",
    "restaurant.increment_number_served(-1)\n",
    "restaurant.describe_restaurant()\n",
    "\n",
    "restaurant.increment_number_served(12)\n",
    "restaurant.describe_restaurant()"
   ]
  },
  {
   "cell_type": "code",
   "execution_count": 17,
   "metadata": {},
   "outputs": [
    {
     "name": "stdout",
     "output_type": "stream",
     "text": [
      "\n",
      " 2019 Audi A4\n",
      "This car has 0 km on it.\n",
      "This car has 18 km on it.\n",
      "This car has 88 km on it.\n",
      "You cant rollback\n",
      "This car has 88 km on it.\n",
      "\n",
      " 2015 Subaru Outback\n",
      "This car has 23500 km on it.\n",
      "This car has 23600 km on it.\n"
     ]
    }
   ],
   "source": [
    "class Car():\n",
    "    \n",
    "    def __init__(self, make, model, year):\n",
    "        self.make=make\n",
    "        self.model=model\n",
    "        self.year=year\n",
    "        self.odometer_reading = 0\n",
    "    \n",
    "    def get_descriptive_name(self): \n",
    "        long_name = f\"{self.year} {self.make} {self.model}\"\n",
    "        return long_name.title()\n",
    "    \n",
    "    def read_odometer(self):\n",
    "        print(f\"This car has {self.odometer_reading} km on it.\")\n",
    "        \n",
    "    def update_odometer(self, probeq):\n",
    "        if probeq>=self.odometer_reading:\n",
    "            self.odometer_reading=probeq\n",
    "        else:\n",
    "            print(\"You cant rollback\")\n",
    "    \n",
    "    def increment_odometer(self, probeq):\n",
    "        if probeq>0:\n",
    "            self.odometer_reading += probeq\n",
    "        else:\n",
    "            print('no rollbacks')\n",
    "\n",
    "my_new_car = Car('audi', 'a4', 2019)\n",
    "print('\\n', my_new_car.get_descriptive_name()) \n",
    "\n",
    "my_new_car.read_odometer()\n",
    "\n",
    "my_new_car.odometer_reading = 18\n",
    "my_new_car.read_odometer()\n",
    "\n",
    "my_new_car.update_odometer(88)\n",
    "my_new_car.read_odometer()\n",
    "\n",
    "my_new_car.update_odometer(66)\n",
    "my_new_car.read_odometer()\n",
    "\n",
    "my_used_car = Car('subaru', 'outback', 2015)\n",
    "print('\\n', my_used_car.get_descriptive_name())\n",
    "my_used_car.update_odometer(23_500)\n",
    "my_used_car.read_odometer()\n",
    "my_used_car.increment_odometer(100)\n",
    "my_used_car.read_odometer()"
   ]
  },
  {
   "cell_type": "code",
   "execution_count": 41,
   "metadata": {},
   "outputs": [
    {
     "name": "stdout",
     "output_type": "stream",
     "text": [
      "\n",
      " Mado is a lovery restaurant with teahouse cuisine\n",
      "\n",
      " We have ice-cream flavours below available: \n",
      "\n",
      "* Vanila\n",
      "* Strawberry\n",
      "* Chocolate\n",
      "* Mango\n"
     ]
    }
   ],
   "source": [
    "class Restaurant():\n",
    "    def __init__(self, restaurant_name, cuisine_type):\n",
    "        self.name=restaurant_name\n",
    "        self.cuisine=cuisine_type\n",
    "        self.number_served=0\n",
    "        \n",
    "    def describe_restaurant(self):\n",
    "        print(f'\\n {self.name.title()} is a lovery restaurant with {self.cuisine} cuisine')\n",
    "        \n",
    "    def customers_total(self):    \n",
    "        print('\\n', self.number_served, 'happy customers')\n",
    "    \n",
    "    def set_number_served(self,customers):\n",
    "        if customers>=self.number_served:\n",
    "            self.number_served=customers\n",
    "        else:\n",
    "            print(\"\\n#You cant decrease number of customers\")\n",
    "    \n",
    "    def increment_number_served(self, customers):\n",
    "        if customers>=0:\n",
    "            self.number_served+=customers\n",
    "        else:\n",
    "            print(\"\\n#You cant decrease number of customers\")\n",
    "            \n",
    "class IceCreamStand(Restaurant):\n",
    "    \n",
    "    def __init__(self, restaurant_name, cuisine_type):\n",
    "        super().__init__(restaurant_name, cuisine_type)\n",
    "    \n",
    "    def flavours(self,flavours):\n",
    "        print('\\n We have ice-cream flavours below available: \\n')\n",
    "        for flavour in flavours:\n",
    "            print(f'* {flavour.title()}')\n",
    "    \n",
    "vanila=IceCreamStand('mado', 'teahouse')\n",
    "vanila.describe_restaurant()\n",
    "favoursAll=['vanila', 'Strawberry','Chocolate','mango']\n",
    "vanila.flavours(favoursAll)"
   ]
  },
  {
   "cell_type": "code",
   "execution_count": null,
   "metadata": {},
   "outputs": [],
   "source": []
  },
  {
   "cell_type": "code",
   "execution_count": null,
   "metadata": {},
   "outputs": [],
   "source": []
  },
  {
   "cell_type": "code",
   "execution_count": null,
   "metadata": {},
   "outputs": [],
   "source": []
  },
  {
   "cell_type": "code",
   "execution_count": null,
   "metadata": {},
   "outputs": [],
   "source": []
  },
  {
   "cell_type": "code",
   "execution_count": null,
   "metadata": {},
   "outputs": [],
   "source": []
  },
  {
   "cell_type": "code",
   "execution_count": null,
   "metadata": {},
   "outputs": [],
   "source": []
  },
  {
   "cell_type": "code",
   "execution_count": null,
   "metadata": {},
   "outputs": [],
   "source": []
  },
  {
   "cell_type": "code",
   "execution_count": null,
   "metadata": {},
   "outputs": [],
   "source": []
  },
  {
   "cell_type": "code",
   "execution_count": null,
   "metadata": {},
   "outputs": [],
   "source": []
  },
  {
   "cell_type": "code",
   "execution_count": null,
   "metadata": {},
   "outputs": [],
   "source": []
  },
  {
   "cell_type": "code",
   "execution_count": null,
   "metadata": {},
   "outputs": [],
   "source": []
  },
  {
   "cell_type": "code",
   "execution_count": null,
   "metadata": {},
   "outputs": [],
   "source": []
  }
 ],
 "metadata": {
  "kernelspec": {
   "display_name": "Python 3",
   "language": "python",
   "name": "python3"
  },
  "language_info": {
   "codemirror_mode": {
    "name": "ipython",
    "version": 3
   },
   "file_extension": ".py",
   "mimetype": "text/x-python",
   "name": "python",
   "nbconvert_exporter": "python",
   "pygments_lexer": "ipython3",
   "version": "3.8.3"
  }
 },
 "nbformat": 4,
 "nbformat_minor": 4
}
