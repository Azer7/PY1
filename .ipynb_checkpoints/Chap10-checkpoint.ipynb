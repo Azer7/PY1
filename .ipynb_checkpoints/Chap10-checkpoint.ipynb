{
 "cells": [
  {
   "cell_type": "markdown",
   "metadata": {},
   "source": [
    "# Chapter10"
   ]
  },
  {
   "cell_type": "code",
   "execution_count": 11,
   "metadata": {},
   "outputs": [
    {
     "name": "stdout",
     "output_type": "stream",
     "text": [
      "34\n",
      "34\n"
     ]
    }
   ],
   "source": [
    "file_path='/Users/azer/Documents/GitHub/PY1/pi_digits.txt'\n",
    "with open(file_path) as file_object:\n",
    "    contents = file_object.read()\n",
    "print(len(contents.rstrip()))\n",
    "print(len(contents))"
   ]
  },
  {
   "cell_type": "code",
   "execution_count": 13,
   "metadata": {},
   "outputs": [
    {
     "name": "stdout",
     "output_type": "stream",
     "text": [
      "3.1415926535\n",
      "8979323846\n",
      "2643383279\n"
     ]
    }
   ],
   "source": [
    "file_path='/Users/azer/Documents/GitHub/PY1/pi_digits.txt'\n",
    "\n",
    "with open(file_path)as file_object:\n",
    "    for line in file_object:\n",
    "        print(line.rstrip())"
   ]
  },
  {
   "cell_type": "code",
   "execution_count": 3,
   "metadata": {},
   "outputs": [
    {
     "name": "stdout",
     "output_type": "stream",
     "text": [
      "3.1415926535\n",
      "8979323846\n",
      "2643383279\n"
     ]
    }
   ],
   "source": [
    "filename = 'pi_digits.txt'\n",
    "\n",
    "with open(filename) as file_object:\n",
    "    for line22 in file_object:\n",
    "        print(line22.rstrip())"
   ]
  },
  {
   "cell_type": "code",
   "execution_count": 22,
   "metadata": {},
   "outputs": [
    {
     "name": "stdout",
     "output_type": "stream",
     "text": [
      "<class 'str'>\n"
     ]
    }
   ],
   "source": [
    "file_path='/Users/azer/Documents/GitHub/PY1/pi_digits.txt'\n",
    "\n",
    "with open(file_path) as file_object:\n",
    "    lines = file_object.readlines()\n",
    "\n",
    "pi_string = ''\n",
    "\n",
    "for line in lines:\n",
    "    pi_string += line.rstrip()\n",
    "    \n",
    "print(type(pi_string))"
   ]
  },
  {
   "cell_type": "code",
   "execution_count": 36,
   "metadata": {},
   "outputs": [
    {
     "name": "stdout",
     "output_type": "stream",
     "text": [
      "3.14159265358979323846264338327950288419716939937510...\n",
      "1080002\n"
     ]
    }
   ],
   "source": [
    "file_path='/Users/azer/Documents/GitHub/PY1/pi_million_digits.txt'\n",
    "\n",
    "with open(file_path) as file_object:\n",
    "    lines=file_object.readlines()\n",
    "    \n",
    "pi_string = ''\n",
    "for line in lines:\n",
    "    pi_string += line.strip()\n",
    "    \n",
    "myNewString = pi_string.replace(' ', '').replace('\\t', '').replace('\\n', '')\n",
    "\n",
    "print(f\"{myNewString[:52]}...\")\n",
    "print(len(pi_string))    "
   ]
  },
  {
   "cell_type": "code",
   "execution_count": 37,
   "metadata": {},
   "outputs": [
    {
     "name": "stdout",
     "output_type": "stream",
     "text": [
      "Enter your birthday, in the form mmddyy: 265358979\n",
      "Your birthday appears in the first million digits of pi!\n"
     ]
    }
   ],
   "source": [
    "file_path='/Users/azer/Documents/GitHub/PY1/pi_million_digits.txt'\n",
    "\n",
    "with open(file_path) as file_object:\n",
    "    lines=file_object.readlines()\n",
    "    pi_string += line.strip()\n",
    "    \n",
    "pi_string = ''\n",
    "for line in lines:\n",
    "    pi_string += line.strip()\n",
    "myNewString = pi_string.replace(' ', '').replace('\\t', '').replace('\\n', '')\n",
    "birthday = input(\"Enter your birthday, in the form mmddyy: \")\n",
    "if birthday in myNewString:\n",
    "    print(\"Your birthday appears in the first million digits of pi!\")\n",
    "else:\n",
    "    print(\"Your birthday does not appear in the first million digits of pi.\")"
   ]
  },
  {
   "cell_type": "code",
   "execution_count": 39,
   "metadata": {},
   "outputs": [],
   "source": [
    "filename='pi_copy.txt'\n",
    "\n",
    "with open(filename, 'w') as file_object:\n",
    "    file_object.write(\"I love programming.\\n\")\n",
    "    file_object.write(\"I love creating new games.\\n\")"
   ]
  },
  {
   "cell_type": "code",
   "execution_count": 40,
   "metadata": {},
   "outputs": [],
   "source": [
    "filename='pi_copy.txt'\n",
    "\n",
    "with open(filename, 'a') as file_object:\n",
    "    file_object.write(\"I also love finding meaning in large datasets.\\n\")\n",
    "    file_object.write(\"I love creating apps that can run in a browser.\\n\")"
   ]
  },
  {
   "cell_type": "code",
   "execution_count": 41,
   "metadata": {},
   "outputs": [
    {
     "name": "stdout",
     "output_type": "stream",
     "text": [
      "Please enter yourn nameAzer\n"
     ]
    }
   ],
   "source": [
    "filename='guest.txt'\n",
    "g_name=input('Please enter yourn name ')\n",
    "with open(filename, 'a') as file_object:\n",
    "    file_object.write(g_name)"
   ]
  },
  {
   "cell_type": "code",
   "execution_count": 47,
   "metadata": {},
   "outputs": [
    {
     "name": "stdout",
     "output_type": "stream",
     "text": [
      "Please enter yourn name Luke skywalker\n",
      "Hello dear Luke skywalker. Your name added to the list \n",
      "\n",
      "Please enter yourn name exit\n"
     ]
    }
   ],
   "source": [
    "filename='guest_book.txt'\n",
    "w_trigger=True\n",
    "\n",
    "while w_trigger==True:\n",
    "    g_name=input('Please enter yourn name ')\n",
    "    if g_name=='exit':\n",
    "        break\n",
    "    print(f'Hello dear {g_name}. Your name added to the list \\n')\n",
    "    with open(filename, 'a') as file_object:\n",
    "            file_object.write(f'{g_name.title()} \\n')"
   ]
  },
  {
   "cell_type": "code",
   "execution_count": null,
   "metadata": {},
   "outputs": [],
   "source": []
  }
 ],
 "metadata": {
  "kernelspec": {
   "display_name": "Python 3",
   "language": "python",
   "name": "python3"
  },
  "language_info": {
   "codemirror_mode": {
    "name": "ipython",
    "version": 3
   },
   "file_extension": ".py",
   "mimetype": "text/x-python",
   "name": "python",
   "nbconvert_exporter": "python",
   "pygments_lexer": "ipython3",
   "version": "3.8.3"
  }
 },
 "nbformat": 4,
 "nbformat_minor": 4
}
