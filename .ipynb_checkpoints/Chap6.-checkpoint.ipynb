{
 "cells": [
  {
   "cell_type": "markdown",
   "metadata": {},
   "source": [
    "# Chapter 6"
   ]
  },
  {
   "cell_type": "code",
   "execution_count": 7,
   "metadata": {},
   "outputs": [
    {
     "name": "stdout",
     "output_type": "stream",
     "text": [
      "green\n",
      "5\n",
      "\n",
      "\n",
      "{'color': 'green', 'points': 5, 'x_position': 0, 'y_position': 25}\n",
      "\n",
      "\n",
      "{'color': 'yellow', 'points': 5, 'x_position': 0, 'y_position': 25}\n"
     ]
    }
   ],
   "source": [
    "alien_0={\"color\":\"green\", \"points\":5}\n",
    "print(alien_0[\"color\"])\n",
    "print(alien_0[\"points\"])\n",
    "print(\"\\n\")\n",
    "alien_0[\"x_position\"]=0\n",
    "alien_0[\"y_position\"]=25\n",
    "print(alien_0)\n",
    "print(\"\\n\")\n",
    "alien_0[\"color\"]=\"yellow\"\n",
    "print(alien_0)"
   ]
  },
  {
   "cell_type": "code",
   "execution_count": 13,
   "metadata": {},
   "outputs": [
    {
     "name": "stdout",
     "output_type": "stream",
     "text": [
      "Original position: 0\n",
      "Original position: 1\n"
     ]
    }
   ],
   "source": [
    "alien_0={\"color\":\"green\", \"points\":5, \"x_position\":0,\"y_position\":25, \"speed\":\"slow\"}\n",
    "print(f\"Original position: {alien_0['x_position']}\")\n",
    "\n",
    "if alien_0['speed'] == 'slow':\n",
    "    x_increment = 1\n",
    "elif alien_0['speed'] == 'medium':\n",
    "    x_increment = 2\n",
    "else:\n",
    "    x_increment = 3\n",
    "    \n",
    "alien_0[\"x_position\"]=x_increment + alien_0[\"x_position\"]\n",
    "print(f\"Original position: {alien_0['x_position']}\")"
   ]
  },
  {
   "cell_type": "code",
   "execution_count": 16,
   "metadata": {},
   "outputs": [
    {
     "name": "stdout",
     "output_type": "stream",
     "text": [
      "{'color': 'green', 'x_position': 0, 'y_position': 25, 'speed': 'slow'}\n",
      "THIS ALIENS COLOR IS GREEN\n"
     ]
    }
   ],
   "source": [
    "alien_0={\"color\":\"green\", \"points\":5, \"x_position\":0,\"y_position\":25, \"speed\":\"slow\"}\n",
    "\n",
    "del alien_0['points'] \n",
    "print(alien_0)\n",
    "\n",
    "alien_color=alien_0[\"color\"].upper()\n",
    "\n",
    "print(f\"THIS ALIENS COLOR IS {alien_color}\")"
   ]
  },
  {
   "cell_type": "code",
   "execution_count": 4,
   "metadata": {},
   "outputs": [
    {
     "name": "stdout",
     "output_type": "stream",
     "text": [
      "Wrong key\n"
     ]
    }
   ],
   "source": [
    "alien_0={\"color\":\"green\", \"points\":5, \"x_position\":0,\"y_position\":25, \"speed\":\"slow\"}\n",
    "\n",
    "print(alien_0.get(\"colosr\",\"Wrong key\"))"
   ]
  },
  {
   "cell_type": "markdown",
   "metadata": {},
   "source": [
    "# Exercise "
   ]
  },
  {
   "cell_type": "code",
   "execution_count": 7,
   "metadata": {},
   "outputs": [
    {
     "name": "stdout",
     "output_type": "stream",
     "text": [
      "Anakin\n"
     ]
    }
   ],
   "source": [
    "person_1={\n",
    "    \"name\":\"anakin\",\n",
    "    \"surname\":\"skywalker\",\n",
    "    \"age\":33,\n",
    "    \"planet\":\"tatuin\",\n",
    "}\n",
    "\n",
    "print(person_1[\"name\"].title())"
   ]
  },
  {
   "cell_type": "code",
   "execution_count": 18,
   "metadata": {},
   "outputs": [
    {
     "name": "stdout",
     "output_type": "stream",
     "text": [
      "Anakin's favourite number is 33\n",
      "\n",
      "Obi-Wan's favourite number is 47\n",
      "\n",
      "Palpatine's favourite number is 66\n",
      "\n",
      "Asoka's favourite number is 18\n",
      "\n",
      "Luke's favourite number is 54\n",
      "\n",
      "ANAKIN\n",
      "OBI-WAN\n",
      "PALPATINE\n",
      "ASOKA\n",
      "LUKE\n"
     ]
    }
   ],
   "source": [
    "numbers={\n",
    "    \"anakin\":33,\n",
    "    \"obi-wan\":47,\n",
    "    \"palpatine\":66,\n",
    "    \"asoka\":18,\n",
    "    \"luke\":54,\n",
    "}\n",
    "\n",
    "for name, number in numbers.items():\n",
    "    print(f\"{name.title()}'s favourite number is {number}\\n\")\n",
    "    \n",
    "for name in numbers:\n",
    "    print(name.upper())"
   ]
  },
  {
   "cell_type": "code",
   "execution_count": 20,
   "metadata": {},
   "outputs": [
    {
     "name": "stdout",
     "output_type": "stream",
     "text": [
      "anakin is 33\n",
      "Dear Obi-Wan, I see you are 47 years old!\n",
      "palpatine is 66\n",
      "Dear Asoka, I see you are 18 years old!\n",
      "Dear Luke, I see you are 54 years old!\n"
     ]
    }
   ],
   "source": [
    "numbers={\n",
    "    \"anakin\":33,\n",
    "    \"obi-wan\":47,\n",
    "    \"palpatine\":66,\n",
    "    \"asoka\":18,\n",
    "    \"luke\":54,\n",
    "}\n",
    "\n",
    "lightSide=[\"luke\", \"asoka\", \"obi-wan\"]\n",
    "\n",
    "for name in numbers:\n",
    "    age=numbers[name]\n",
    "    if name in lightSide:\n",
    "        print(f\"Dear {name.title()}, I see you are {age} years old!\")\n",
    "    else:\n",
    "        print(f\"{name} is {age}\")"
   ]
  },
  {
   "cell_type": "code",
   "execution_count": 25,
   "metadata": {},
   "outputs": [
    {
     "name": "stdout",
     "output_type": "stream",
     "text": [
      "33\n",
      "47\n",
      "54\n",
      "66\n"
     ]
    }
   ],
   "source": [
    "numbers={\n",
    "    \"anakin\":33,\n",
    "    \"obi-wan\":47,\n",
    "    \"palpatine\":66,\n",
    "    \"asoka\":54,\n",
    "    \"luke\":54,\n",
    "}\n",
    "\n",
    "for age in sorted(set(numbers.values())):\n",
    "    print(age)"
   ]
  },
  {
   "cell_type": "code",
   "execution_count": null,
   "metadata": {},
   "outputs": [],
   "source": []
  },
  {
   "cell_type": "code",
   "execution_count": null,
   "metadata": {},
   "outputs": [],
   "source": []
  },
  {
   "cell_type": "code",
   "execution_count": null,
   "metadata": {},
   "outputs": [],
   "source": []
  },
  {
   "cell_type": "code",
   "execution_count": null,
   "metadata": {},
   "outputs": [],
   "source": []
  }
 ],
 "metadata": {
  "kernelspec": {
   "display_name": "Python 3",
   "language": "python",
   "name": "python3"
  },
  "language_info": {
   "codemirror_mode": {
    "name": "ipython",
    "version": 3
   },
   "file_extension": ".py",
   "mimetype": "text/x-python",
   "name": "python",
   "nbconvert_exporter": "python",
   "pygments_lexer": "ipython3",
   "version": "3.8.3"
  }
 },
 "nbformat": 4,
 "nbformat_minor": 4
}
