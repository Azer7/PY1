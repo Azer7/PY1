{
 "cells": [
  {
   "cell_type": "markdown",
   "metadata": {},
   "source": [
    "are you ready?"
   ]
  },
  {
   "cell_type": "markdown",
   "metadata": {},
   "source": [
    "Im"
   ]
  },
  {
   "cell_type": "code",
   "execution_count": 13,
   "metadata": {},
   "outputs": [
    {
     "name": "stdout",
     "output_type": "stream",
     "text": [
      "Please input your password: 123\n",
      "Success\n"
     ]
    }
   ],
   "source": [
    "correct_password = \"123\"\n",
    "enterPassword = input('Please input your password: ')\n",
    "\n",
    "while str(correct_password) != enterPassword:\n",
    "    enterPassword = input(\"Password Invalid. Please try again. \")\n",
    "print('Success')    "
   ]
  },
  {
   "cell_type": "markdown",
   "metadata": {},
   "source": [
    "Условие: Напишите функцию, которая находит наибольшее четное число в списке. Верните -1, если ничего не найдено. Использовать встроенные функции max() и sorted() — запрещено."
   ]
  },
  {
   "cell_type": "code",
   "execution_count": 39,
   "metadata": {},
   "outputs": [
    {
     "name": "stdout",
     "output_type": "stream",
     "text": [
      "not ok\n",
      "ok\n",
      "not ok\n",
      "ok\n",
      "not ok\n",
      "ok\n",
      "[2, 4, 6]\n"
     ]
    },
    {
     "ename": "ValueError",
     "evalue": "list.remove(x): x not in list",
     "output_type": "error",
     "traceback": [
      "\u001b[0;31m---------------------------------------------------------------------------\u001b[0m",
      "\u001b[0;31mValueError\u001b[0m                                Traceback (most recent call last)",
      "\u001b[0;32m<ipython-input-39-9108bdf06df4>\u001b[0m in \u001b[0;36m<module>\u001b[0;34m\u001b[0m\n\u001b[1;32m     19\u001b[0m \u001b[0mrandomNumbers\u001b[0m\u001b[0;34m=\u001b[0m\u001b[0;34m[\u001b[0m\u001b[0;36m1\u001b[0m\u001b[0;34m,\u001b[0m\u001b[0;36m2\u001b[0m\u001b[0;34m,\u001b[0m\u001b[0;36m3\u001b[0m\u001b[0;34m,\u001b[0m\u001b[0;36m4\u001b[0m\u001b[0;34m,\u001b[0m\u001b[0;36m5\u001b[0m\u001b[0;34m,\u001b[0m\u001b[0;36m6\u001b[0m\u001b[0;34m]\u001b[0m\u001b[0;34m\u001b[0m\u001b[0;34m\u001b[0m\u001b[0m\n\u001b[1;32m     20\u001b[0m \u001b[0mevenNumbers\u001b[0m\u001b[0;34m=\u001b[0m\u001b[0;34m[\u001b[0m\u001b[0;34m]\u001b[0m\u001b[0;34m\u001b[0m\u001b[0;34m\u001b[0m\u001b[0m\n\u001b[0;32m---> 21\u001b[0;31m \u001b[0mmaxEven\u001b[0m\u001b[0;34m(\u001b[0m\u001b[0mrandomNumbers\u001b[0m\u001b[0;34m)\u001b[0m\u001b[0;34m\u001b[0m\u001b[0;34m\u001b[0m\u001b[0m\n\u001b[0m\u001b[1;32m     22\u001b[0m \u001b[0mprint\u001b[0m\u001b[0;34m(\u001b[0m\u001b[0mevenNumbers\u001b[0m\u001b[0;34m)\u001b[0m\u001b[0;34m\u001b[0m\u001b[0;34m\u001b[0m\u001b[0m\n",
      "\u001b[0;32m<ipython-input-39-9108bdf06df4>\u001b[0m in \u001b[0;36mmaxEven\u001b[0;34m(numbers)\u001b[0m\n\u001b[1;32m     12\u001b[0m \u001b[0;34m\u001b[0m\u001b[0m\n\u001b[1;32m     13\u001b[0m         \u001b[0;32mif\u001b[0m \u001b[0mevenNumbers\u001b[0m\u001b[0;34m[\u001b[0m\u001b[0;36m0\u001b[0m\u001b[0;34m]\u001b[0m\u001b[0;34m<\u001b[0m\u001b[0mevenNumbers\u001b[0m\u001b[0;34m[\u001b[0m\u001b[0;34m-\u001b[0m\u001b[0;36m1\u001b[0m\u001b[0;34m]\u001b[0m\u001b[0;34m:\u001b[0m\u001b[0;34m\u001b[0m\u001b[0;34m\u001b[0m\u001b[0m\n\u001b[0;32m---> 14\u001b[0;31m             \u001b[0mevenNumbers\u001b[0m\u001b[0;34m.\u001b[0m\u001b[0mremove\u001b[0m\u001b[0;34m(\u001b[0m\u001b[0mnumbers\u001b[0m\u001b[0;34m[\u001b[0m\u001b[0;36m0\u001b[0m\u001b[0;34m]\u001b[0m\u001b[0;34m)\u001b[0m\u001b[0;34m\u001b[0m\u001b[0;34m\u001b[0m\u001b[0m\n\u001b[0m\u001b[1;32m     15\u001b[0m         \u001b[0;32melse\u001b[0m\u001b[0;34m:\u001b[0m\u001b[0;34m\u001b[0m\u001b[0;34m\u001b[0m\u001b[0m\n\u001b[1;32m     16\u001b[0m             \u001b[0mevenNumbers\u001b[0m\u001b[0;34m.\u001b[0m\u001b[0mremove\u001b[0m\u001b[0;34m(\u001b[0m\u001b[0mnumbers\u001b[0m\u001b[0;34m[\u001b[0m\u001b[0;34m-\u001b[0m\u001b[0;36m1\u001b[0m\u001b[0;34m]\u001b[0m\u001b[0;34m)\u001b[0m\u001b[0;34m\u001b[0m\u001b[0;34m\u001b[0m\u001b[0m\n",
      "\u001b[0;31mValueError\u001b[0m: list.remove(x): x not in list"
     ]
    }
   ],
   "source": [
    "def maxEven(numbers):\n",
    "    \n",
    "    for number in numbers:   \n",
    "        if number%2 == 0:            \n",
    "            print ('ok')\n",
    "            evenNumbers.append(number)\n",
    "        else:\n",
    "            print('not ok')\n",
    "    print(evenNumbers)  \n",
    "    \n",
    "    while len(evenNumbers)!=1:\n",
    "        \n",
    "        if evenNumbers[0]<evenNumbers[-1]:\n",
    "            evenNumbers.remove(numbers[0])\n",
    "        else:\n",
    "            evenNumbers.remove(numbers[-1])        \n",
    "            \n",
    "            \n",
    "randomNumbers=[1,2,3,4,5,6]\n",
    "evenNumbers=[]\n",
    "maxEven(randomNumbers)\n",
    "print(evenNumbers)"
   ]
  },
  {
   "cell_type": "markdown",
   "metadata": {},
   "source": [
    "Largest Number Function"
   ]
  },
  {
   "cell_type": "code",
   "execution_count": 41,
   "metadata": {},
   "outputs": [
    {
     "data": {
      "text/plain": [
       "7"
      ]
     },
     "execution_count": 41,
     "metadata": {},
     "output_type": "execute_result"
    }
   ],
   "source": [
    "def largest(numbers):\n",
    "    maximum=0\n",
    "    for number in numbers:\n",
    "        if number > maximum:\n",
    "            maximum = number            \n",
    "    return maximum\n",
    "largest([3, 7, 2, 1, 7])"
   ]
  },
  {
   "cell_type": "code",
   "execution_count": 40,
   "metadata": {},
   "outputs": [
    {
     "name": "stdout",
     "output_type": "stream",
     "text": [
      "[8]\n"
     ]
    }
   ],
   "source": [
    "randomNumbers=[1,2,8,4,5,6]\n",
    "\n",
    "def maxNumber(numbers):\n",
    "    while len(numbers)!=1:\n",
    "        \n",
    "        if numbers[0]<numbers[-1]:\n",
    "            numbers.remove(numbers[0])\n",
    "        el\n",
    "            numbers.remove(numbers[-1])\n",
    "            \n",
    "maxNumber(randomNumbers) \n",
    "print(randomNumbers)"
   ]
  },
  {
   "cell_type": "code",
   "execution_count": 48,
   "metadata": {},
   "outputs": [
    {
     "name": "stdout",
     "output_type": "stream",
     "text": [
      "-1\n"
     ]
    }
   ],
   "source": [
    "def maxEven(numbers):\n",
    "    maximum=0\n",
    "    for number in numbers:   \n",
    "        if number%2 == 0 and number > maximum:\n",
    "            \n",
    "            maximum=number\n",
    "    \n",
    "    if maximum==0:\n",
    "        print(\"-1\")\n",
    "    else:\n",
    "        print(maximum)\n",
    "            \n",
    "randomNumbers=[1,1,3,1,5,11]\n",
    "\n",
    "maxEven(randomNumbers)"
   ]
  },
  {
   "cell_type": "markdown",
   "metadata": {},
   "source": [
    "Задание: Создайте функцию, которая принимает одну строку и возвращает другую, в которой каждая буква исходной строки повторяется дважды.\n",
    "\n",
    "Примечание: Все тестовые случаи содержат валидные строки. Не переживайте о пробелах, специальных символах или числах. Все эти символы валидны.\n",
    "\n",
    "double_char(\"String\") ➞ \"SSttrriinngg\"\n",
    "\n",
    "double_char(\"Hello World!\") ➞ \"HHeelllloo WWoorrlldd!!\"\n",
    "\n",
    "double_char(\"1234!_ \") ➞ \"11223344!!__ \"\n"
   ]
  },
  {
   "cell_type": "code",
   "execution_count": 77,
   "metadata": {},
   "outputs": [
    {
     "name": "stdout",
     "output_type": "stream",
     "text": [
      "['h', 'e', 'l', 'l', 'o']\n",
      "<class 'list'>\n",
      "<generator object doubleChar.<locals>.<genexpr> at 0x7fab1d3bb0b0>\n"
     ]
    }
   ],
   "source": [
    "def doubleChar(someString):\n",
    "    someList=list(someString)\n",
    "    print(someList)\n",
    "    someList2=[letter*2 for letter in someList]\n",
    "    print(type(someList))\n",
    "    print(someList2)\n",
    "    \n",
    "doubleChar(\"hello\")    "
   ]
  },
  {
   "cell_type": "code",
   "execution_count": 75,
   "metadata": {},
   "outputs": [
    {
     "name": "stdout",
     "output_type": "stream",
     "text": [
      "aazzzzeerr\n"
     ]
    }
   ],
   "source": [
    "def doubleChar(someString):\n",
    "    return ''.join(i*2 for i in someString) \n",
    "\n",
    "outcome2=doubleChar(\"azzer\")\n",
    "print(outcome2)"
   ]
  },
  {
   "cell_type": "code",
   "execution_count": 66,
   "metadata": {},
   "outputs": [
    {
     "name": "stdout",
     "output_type": "stream",
     "text": [
      "aazzzzeerr\n"
     ]
    }
   ],
   "source": [
    "def doubleChar(someString):\n",
    "\n",
    "    \n",
    "    return ''.join([i * 2 for i in someString])\n",
    "\n",
    "\n",
    "outcome2=doubleChar(\"azzer\")\n",
    "print(outcome2)"
   ]
  },
  {
   "cell_type": "markdown",
   "metadata": {},
   "source": [
    "[1,2,5,7,9,12]"
   ]
  },
  {
   "cell_type": "code",
   "execution_count": 78,
   "metadata": {},
   "outputs": [
    {
     "name": "stdout",
     "output_type": "stream",
     "text": [
      "21\n"
     ]
    }
   ],
   "source": [
    "def sumOf(listOfNumbers):\n",
    "    b=0\n",
    "    for a in listOfNumbers:\n",
    "        b+=a\n",
    "    print(b) \n",
    "    \n",
    "geshengList=[1,3,4,6,7]\n",
    "sumOf(geshengList)"
   ]
  },
  {
   "cell_type": "markdown",
   "metadata": {},
   "source": [
    "'''33. Write a Python program to convert month name to a number of days. \n",
    "Expected Output:\n",
    "\n",
    "List of months: January, February, March, April, May, June, July, August\n",
    ", September, October, November, December                                \n",
    "Input the name of Month: February                                       \n",
    "No. of days: 28/29 days \n",
    "'''"
   ]
  },
  {
   "cell_type": "markdown",
   "metadata": {},
   "source": [
    "'''32. Write a Python program to check whether an alphabet is a vowel or consonant.\n",
    "Expected Output:\n",
    "\n",
    "Input a letter of the alphabet: k                                       \n",
    "k is a consonant.\n",
    "'''"
   ]
  },
  {
   "cell_type": "markdown",
   "metadata": {},
   "source": [
    "'''34. Write a Python program to sum of two given integers. However, if the sum is \n",
    "between 15 to 20 it will return 20.'''"
   ]
  },
  {
   "cell_type": "code",
   "execution_count": 29,
   "metadata": {},
   "outputs": [
    {
     "name": "stdout",
     "output_type": "stream",
     "text": [
      "Hello User! This app converts month name to a number of days\n",
      "Please enter name of the month February\n",
      "February has 28 or 29 days\n"
     ]
    }
   ],
   "source": [
    "def numberOfDays(monthName):\n",
    "    monthNameTitle=monthName.title()\n",
    "    months={\n",
    "        'January':31,\n",
    "        'February':(28,29),\n",
    "        'March':31,\n",
    "        'April':30,\n",
    "        'May':30,\n",
    "        'June':30,\n",
    "        'July':31,\n",
    "        'August':31,\n",
    "        'September':30,\n",
    "        'October':31,\n",
    "        'November':30,\n",
    "        'December':31\n",
    "        \n",
    "    }\n",
    "    \n",
    "    if monthNameTitle not in months.keys():\n",
    "        print('\\n')\n",
    "        print('FATAL ERROR. WRONG NAME')\n",
    "        monthNameInput=input('Please enter correct name of the month ')    \n",
    "        numberOfDays(monthNameInput) \n",
    "    elif monthNameTitle=='February':      \n",
    "        print(f'{monthNameTitle} has {months[monthNameTitle][0]} or {months[monthNameTitle][1]} days')\n",
    "    else:\n",
    "        print(f'{monthNameTitle} has {months[monthNameTitle]} days')\n",
    "\n",
    "        \n",
    "\n",
    "print('Hello User! This app converts month name to a number of days')    \n",
    "monthNameInput=input('Please enter name of the month ')    \n",
    "numberOfDays(monthNameInput)    "
   ]
  },
  {
   "cell_type": "code",
   "execution_count": null,
   "metadata": {},
   "outputs": [],
   "source": []
  },
  {
   "cell_type": "markdown",
   "metadata": {},
   "source": [
    "'''32. Write a Python program to check whether an alphabet is a vowel or consonant. Expected Output:\n",
    "\n",
    "Input a letter of the alphabet: k\n",
    "k is a consonant. '''"
   ]
  },
  {
   "cell_type": "code",
   "execution_count": 37,
   "metadata": {},
   "outputs": [
    {
     "name": "stdout",
     "output_type": "stream",
     "text": [
      "Hello User! This app checks whether an alphabet is a vowel or consonant.\n",
      "Please enter one letter of the alphabet r\n",
      "r, is a consonant\n"
     ]
    }
   ],
   "source": [
    "def checkVowel(letter):\n",
    "    letterLower=letter.lower()\n",
    "    if letterLower.isalpha() and len(letterLower)==1:\n",
    "        if(letter=='a' or letter =='e' or letter=='i' or letter=='o' or letter=='u'):\n",
    "            print(f'{letter}, is a vowel')\n",
    "        else:\n",
    "            print(f'{letter}, is a consonant')\n",
    "    else:\n",
    "        print('\\n')\n",
    "        print(\"Wrong input. 1 char and only alphabet\")\n",
    "        letterInput=input('Please enter one letter of the alphabet ')    \n",
    "        checkVowel(letterInput)\n",
    "        \n",
    "        \n",
    "print('Hello User! This app checks whether an alphabet is a vowel or consonant.')    \n",
    "letterInput=input('Please enter one letter of the alphabet ')    \n",
    "checkVowel(letterInput)         "
   ]
  },
  {
   "cell_type": "code",
   "execution_count": null,
   "metadata": {},
   "outputs": [],
   "source": []
  },
  {
   "cell_type": "markdown",
   "metadata": {},
   "source": [
    "'''34. Write a Python program to sum of two given integers. However, if the sum is between 15 to 20 it will return 20.'''"
   ]
  },
  {
   "cell_type": "code",
   "execution_count": 40,
   "metadata": {},
   "outputs": [
    {
     "name": "stdout",
     "output_type": "stream",
     "text": [
      "20\n"
     ]
    }
   ],
   "source": [
    "def sum2int(a,b):\n",
    "    c=a+b\n",
    "    if c>=15 and c<=20:\n",
    "        print(20)\n",
    "    else:\n",
    "        print (c)\n",
    "        \n",
    "        \n",
    "sum2int(5,13)        "
   ]
  },
  {
   "cell_type": "code",
   "execution_count": null,
   "metadata": {},
   "outputs": [],
   "source": []
  }
 ],
 "metadata": {
  "kernelspec": {
   "display_name": "Python 3",
   "language": "python",
   "name": "python3"
  },
  "language_info": {
   "codemirror_mode": {
    "name": "ipython",
    "version": 3
   },
   "file_extension": ".py",
   "mimetype": "text/x-python",
   "name": "python",
   "nbconvert_exporter": "python",
   "pygments_lexer": "ipython3",
   "version": "3.8.3"
  }
 },
 "nbformat": 4,
 "nbformat_minor": 4
}
